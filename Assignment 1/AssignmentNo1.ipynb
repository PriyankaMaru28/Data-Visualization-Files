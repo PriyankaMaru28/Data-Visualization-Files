{
  "nbformat": 4,
  "nbformat_minor": 0,
  "metadata": {
    "colab": {
      "provenance": []
    },
    "kernelspec": {
      "name": "python3",
      "display_name": "Python 3"
    },
    "language_info": {
      "name": "python"
    }
  },
  "cells": [
    {
      "cell_type": "markdown",
      "source": [
        "COMP-6934 - Data Visualization - Assignment No 1\n",
        "\n",
        "Title - Starwars Data Visualization Assignment using Pandas\n",
        "\n",
        "Name - Priyanka Maru\n",
        "\n",
        "Student Id - 202091536\n",
        "\n",
        "Date - 20th January 2022"
      ],
      "metadata": {
        "id": "Dgq75fl9PG59"
      }
    },
    {
      "cell_type": "markdown",
      "source": [
        "Import the Dataset using Pandas dataframe"
      ],
      "metadata": {
        "id": "HXMb3_RBPx-o"
      }
    },
    {
      "cell_type": "code",
      "execution_count": 19,
      "metadata": {
        "colab": {
          "base_uri": "https://localhost:8080/"
        },
        "id": "fZ0b9jHHEWR9",
        "outputId": "4fe4b1f1-c77f-401b-c885-1c941c112215"
      },
      "outputs": [
        {
          "output_type": "stream",
          "name": "stdout",
          "text": [
            "<class 'pandas.core.frame.DataFrame'>\n",
            "RangeIndex: 1186 entries, 0 to 1185\n",
            "Data columns (total 38 columns):\n",
            " #   Column                           Non-Null Count  Dtype  \n",
            "---  ------                           --------------  -----  \n",
            " 0   id                               1186 non-null   float64\n",
            " 1   seen_any_films                   1186 non-null   object \n",
            " 2   fan                              836 non-null    object \n",
            " 3   seen_episode1                    936 non-null    object \n",
            " 4   seen_episode2                    936 non-null    object \n",
            " 5   seen_episode3                    936 non-null    object \n",
            " 6   seen_episode4                    936 non-null    object \n",
            " 7   seen_episode5                    936 non-null    object \n",
            " 8   seen_episode6                    936 non-null    object \n",
            " 9   rank_episode1                    835 non-null    float64\n",
            " 10  rank_episode2                    836 non-null    float64\n",
            " 11  rank_episode3                    835 non-null    float64\n",
            " 12  rank_episode4                    836 non-null    float64\n",
            " 13  rank_episode5                    836 non-null    float64\n",
            " 14  rank_episode6                    836 non-null    float64\n",
            " 15  view_han_solo                    829 non-null    object \n",
            " 16  view_luke_skywalker              831 non-null    object \n",
            " 17  view_princess_leia_organa        831 non-null    object \n",
            " 18  view_anakin_skywalker            823 non-null    object \n",
            " 19  view_obi_wan_kenobi              825 non-null    object \n",
            " 20  view_emperor_palpatine           814 non-null    object \n",
            " 21  view_darth_vader                 826 non-null    object \n",
            " 22  view_lando_calrissian            820 non-null    object \n",
            " 23  view_boba_fett                   812 non-null    object \n",
            " 24  view_c3p0                        827 non-null    object \n",
            " 25  view_r2d2                        830 non-null    object \n",
            " 26  view_jar_jar_binks               821 non-null    object \n",
            " 27  view_padme_amidala               814 non-null    object \n",
            " 28  view_yoda                        826 non-null    object \n",
            " 29  who_shot_first                   828 non-null    object \n",
            " 30  familiar_with_expanded_universe  828 non-null    object \n",
            " 31  fan_expanded_universe            213 non-null    object \n",
            " 32  fan_star_trek                    1068 non-null   object \n",
            " 33  gender                           1046 non-null   object \n",
            " 34  age                              1046 non-null   object \n",
            " 35  household_income                 858 non-null    object \n",
            " 36  education                        1036 non-null   object \n",
            " 37  location                         1043 non-null   object \n",
            "dtypes: float64(7), object(31)\n",
            "memory usage: 352.2+ KB\n"
          ]
        }
      ],
      "source": [
        "import pandas as pd\n",
        "star_wars = pd.read_csv(r'starwars.csv')\n",
        "star_wars.info()"
      ]
    },
    {
      "cell_type": "markdown",
      "source": [
        "Viewing the starwars Dataframe"
      ],
      "metadata": {
        "id": "lCLvAArnP2_h"
      }
    },
    {
      "cell_type": "code",
      "source": [
        "star_wars"
      ],
      "metadata": {
        "colab": {
          "base_uri": "https://localhost:8080/",
          "height": 835
        },
        "id": "56dGGyNXFH9j",
        "outputId": "66761128-1857-43c3-f93e-a5d192cd8661"
      },
      "execution_count": 20,
      "outputs": [
        {
          "output_type": "execute_result",
          "data": {
            "text/plain": [
              "                id seen_any_films  fan seen_episode1 seen_episode2  \\\n",
              "0     3.292880e+09            Yes  Yes           Yes           Yes   \n",
              "1     3.292880e+09             No  NaN           NaN           NaN   \n",
              "2     3.292765e+09            Yes   No           Yes           Yes   \n",
              "3     3.292763e+09            Yes  Yes           Yes           Yes   \n",
              "4     3.292731e+09            Yes  Yes           Yes           Yes   \n",
              "...            ...            ...  ...           ...           ...   \n",
              "1181  3.288389e+09            Yes  Yes           Yes           Yes   \n",
              "1182  3.288379e+09            Yes  Yes           Yes           Yes   \n",
              "1183  3.288375e+09             No  NaN           NaN           NaN   \n",
              "1184  3.288373e+09            Yes  Yes           Yes           Yes   \n",
              "1185  3.288373e+09            Yes   No           Yes           Yes   \n",
              "\n",
              "     seen_episode3 seen_episode4 seen_episode5 seen_episode6  rank_episode1  \\\n",
              "0              Yes           Yes           Yes           Yes            3.0   \n",
              "1              NaN           NaN           NaN           NaN            NaN   \n",
              "2              Yes            No            No            No            1.0   \n",
              "3              Yes           Yes           Yes           Yes            5.0   \n",
              "4              Yes           Yes           Yes           Yes            5.0   \n",
              "...            ...           ...           ...           ...            ...   \n",
              "1181           Yes           Yes           Yes           Yes            5.0   \n",
              "1182           Yes           Yes           Yes           Yes            4.0   \n",
              "1183           NaN           NaN           NaN           NaN            NaN   \n",
              "1184           Yes           Yes           Yes           Yes            4.0   \n",
              "1185            No            No           Yes           Yes            6.0   \n",
              "\n",
              "      ...           view_yoda                    who_shot_first  \\\n",
              "0     ...      Very favorably  I don't understand this question   \n",
              "1     ...                 NaN                               NaN   \n",
              "2     ...    Unfamiliar (N/A)  I don't understand this question   \n",
              "3     ...      Very favorably  I don't understand this question   \n",
              "4     ...  Somewhat favorably                            Greedo   \n",
              "...   ...                 ...                               ...   \n",
              "1181  ...      Very favorably                               Han   \n",
              "1182  ...      Very favorably  I don't understand this question   \n",
              "1183  ...                 NaN                               NaN   \n",
              "1184  ...      Very favorably                               Han   \n",
              "1185  ...    Very unfavorably  I don't understand this question   \n",
              "\n",
              "      familiar_with_expanded_universe  fan_expanded_universe  fan_star_trek  \\\n",
              "0                                 Yes                     No             No   \n",
              "1                                 NaN                    NaN            Yes   \n",
              "2                                  No                    NaN             No   \n",
              "3                                  No                    NaN            Yes   \n",
              "4                                 Yes                     No             No   \n",
              "...                               ...                    ...            ...   \n",
              "1181                               No                    NaN            Yes   \n",
              "1182                               No                    NaN            Yes   \n",
              "1183                              NaN                    NaN             No   \n",
              "1184                               No                    NaN            Yes   \n",
              "1185                               No                    NaN             No   \n",
              "\n",
              "      gender    age     household_income                         education  \\\n",
              "0       Male  18-29                  NaN                High school degree   \n",
              "1       Male  18-29         $0 - $24,999                   Bachelor degree   \n",
              "2       Male  18-29         $0 - $24,999                High school degree   \n",
              "3       Male  18-29  $100,000 - $149,999  Some college or Associate degree   \n",
              "4       Male  18-29  $100,000 - $149,999  Some college or Associate degree   \n",
              "...      ...    ...                  ...                               ...   \n",
              "1181  Female  18-29         $0 - $24,999  Some college or Associate degree   \n",
              "1182  Female  30-44    $50,000 - $99,999                   Bachelor degree   \n",
              "1183  Female  30-44    $50,000 - $99,999                   Bachelor degree   \n",
              "1184  Female  45-60  $100,000 - $149,999  Some college or Associate degree   \n",
              "1185  Female   > 60    $50,000 - $99,999                   Graduate degree   \n",
              "\n",
              "                location  \n",
              "0         South Atlantic  \n",
              "1     West South Central  \n",
              "2     West North Central  \n",
              "3     West North Central  \n",
              "4     West North Central  \n",
              "...                  ...  \n",
              "1181  East North Central  \n",
              "1182            Mountain  \n",
              "1183     Middle Atlantic  \n",
              "1184  East North Central  \n",
              "1185             Pacific  \n",
              "\n",
              "[1186 rows x 38 columns]"
            ],
            "text/html": [
              "\n",
              "  <div id=\"df-6bc313fd-f176-4494-9f35-108091ca0e2f\">\n",
              "    <div class=\"colab-df-container\">\n",
              "      <div>\n",
              "<style scoped>\n",
              "    .dataframe tbody tr th:only-of-type {\n",
              "        vertical-align: middle;\n",
              "    }\n",
              "\n",
              "    .dataframe tbody tr th {\n",
              "        vertical-align: top;\n",
              "    }\n",
              "\n",
              "    .dataframe thead th {\n",
              "        text-align: right;\n",
              "    }\n",
              "</style>\n",
              "<table border=\"1\" class=\"dataframe\">\n",
              "  <thead>\n",
              "    <tr style=\"text-align: right;\">\n",
              "      <th></th>\n",
              "      <th>id</th>\n",
              "      <th>seen_any_films</th>\n",
              "      <th>fan</th>\n",
              "      <th>seen_episode1</th>\n",
              "      <th>seen_episode2</th>\n",
              "      <th>seen_episode3</th>\n",
              "      <th>seen_episode4</th>\n",
              "      <th>seen_episode5</th>\n",
              "      <th>seen_episode6</th>\n",
              "      <th>rank_episode1</th>\n",
              "      <th>...</th>\n",
              "      <th>view_yoda</th>\n",
              "      <th>who_shot_first</th>\n",
              "      <th>familiar_with_expanded_universe</th>\n",
              "      <th>fan_expanded_universe</th>\n",
              "      <th>fan_star_trek</th>\n",
              "      <th>gender</th>\n",
              "      <th>age</th>\n",
              "      <th>household_income</th>\n",
              "      <th>education</th>\n",
              "      <th>location</th>\n",
              "    </tr>\n",
              "  </thead>\n",
              "  <tbody>\n",
              "    <tr>\n",
              "      <th>0</th>\n",
              "      <td>3.292880e+09</td>\n",
              "      <td>Yes</td>\n",
              "      <td>Yes</td>\n",
              "      <td>Yes</td>\n",
              "      <td>Yes</td>\n",
              "      <td>Yes</td>\n",
              "      <td>Yes</td>\n",
              "      <td>Yes</td>\n",
              "      <td>Yes</td>\n",
              "      <td>3.0</td>\n",
              "      <td>...</td>\n",
              "      <td>Very favorably</td>\n",
              "      <td>I don't understand this question</td>\n",
              "      <td>Yes</td>\n",
              "      <td>No</td>\n",
              "      <td>No</td>\n",
              "      <td>Male</td>\n",
              "      <td>18-29</td>\n",
              "      <td>NaN</td>\n",
              "      <td>High school degree</td>\n",
              "      <td>South Atlantic</td>\n",
              "    </tr>\n",
              "    <tr>\n",
              "      <th>1</th>\n",
              "      <td>3.292880e+09</td>\n",
              "      <td>No</td>\n",
              "      <td>NaN</td>\n",
              "      <td>NaN</td>\n",
              "      <td>NaN</td>\n",
              "      <td>NaN</td>\n",
              "      <td>NaN</td>\n",
              "      <td>NaN</td>\n",
              "      <td>NaN</td>\n",
              "      <td>NaN</td>\n",
              "      <td>...</td>\n",
              "      <td>NaN</td>\n",
              "      <td>NaN</td>\n",
              "      <td>NaN</td>\n",
              "      <td>NaN</td>\n",
              "      <td>Yes</td>\n",
              "      <td>Male</td>\n",
              "      <td>18-29</td>\n",
              "      <td>$0 - $24,999</td>\n",
              "      <td>Bachelor degree</td>\n",
              "      <td>West South Central</td>\n",
              "    </tr>\n",
              "    <tr>\n",
              "      <th>2</th>\n",
              "      <td>3.292765e+09</td>\n",
              "      <td>Yes</td>\n",
              "      <td>No</td>\n",
              "      <td>Yes</td>\n",
              "      <td>Yes</td>\n",
              "      <td>Yes</td>\n",
              "      <td>No</td>\n",
              "      <td>No</td>\n",
              "      <td>No</td>\n",
              "      <td>1.0</td>\n",
              "      <td>...</td>\n",
              "      <td>Unfamiliar (N/A)</td>\n",
              "      <td>I don't understand this question</td>\n",
              "      <td>No</td>\n",
              "      <td>NaN</td>\n",
              "      <td>No</td>\n",
              "      <td>Male</td>\n",
              "      <td>18-29</td>\n",
              "      <td>$0 - $24,999</td>\n",
              "      <td>High school degree</td>\n",
              "      <td>West North Central</td>\n",
              "    </tr>\n",
              "    <tr>\n",
              "      <th>3</th>\n",
              "      <td>3.292763e+09</td>\n",
              "      <td>Yes</td>\n",
              "      <td>Yes</td>\n",
              "      <td>Yes</td>\n",
              "      <td>Yes</td>\n",
              "      <td>Yes</td>\n",
              "      <td>Yes</td>\n",
              "      <td>Yes</td>\n",
              "      <td>Yes</td>\n",
              "      <td>5.0</td>\n",
              "      <td>...</td>\n",
              "      <td>Very favorably</td>\n",
              "      <td>I don't understand this question</td>\n",
              "      <td>No</td>\n",
              "      <td>NaN</td>\n",
              "      <td>Yes</td>\n",
              "      <td>Male</td>\n",
              "      <td>18-29</td>\n",
              "      <td>$100,000 - $149,999</td>\n",
              "      <td>Some college or Associate degree</td>\n",
              "      <td>West North Central</td>\n",
              "    </tr>\n",
              "    <tr>\n",
              "      <th>4</th>\n",
              "      <td>3.292731e+09</td>\n",
              "      <td>Yes</td>\n",
              "      <td>Yes</td>\n",
              "      <td>Yes</td>\n",
              "      <td>Yes</td>\n",
              "      <td>Yes</td>\n",
              "      <td>Yes</td>\n",
              "      <td>Yes</td>\n",
              "      <td>Yes</td>\n",
              "      <td>5.0</td>\n",
              "      <td>...</td>\n",
              "      <td>Somewhat favorably</td>\n",
              "      <td>Greedo</td>\n",
              "      <td>Yes</td>\n",
              "      <td>No</td>\n",
              "      <td>No</td>\n",
              "      <td>Male</td>\n",
              "      <td>18-29</td>\n",
              "      <td>$100,000 - $149,999</td>\n",
              "      <td>Some college or Associate degree</td>\n",
              "      <td>West North Central</td>\n",
              "    </tr>\n",
              "    <tr>\n",
              "      <th>...</th>\n",
              "      <td>...</td>\n",
              "      <td>...</td>\n",
              "      <td>...</td>\n",
              "      <td>...</td>\n",
              "      <td>...</td>\n",
              "      <td>...</td>\n",
              "      <td>...</td>\n",
              "      <td>...</td>\n",
              "      <td>...</td>\n",
              "      <td>...</td>\n",
              "      <td>...</td>\n",
              "      <td>...</td>\n",
              "      <td>...</td>\n",
              "      <td>...</td>\n",
              "      <td>...</td>\n",
              "      <td>...</td>\n",
              "      <td>...</td>\n",
              "      <td>...</td>\n",
              "      <td>...</td>\n",
              "      <td>...</td>\n",
              "      <td>...</td>\n",
              "    </tr>\n",
              "    <tr>\n",
              "      <th>1181</th>\n",
              "      <td>3.288389e+09</td>\n",
              "      <td>Yes</td>\n",
              "      <td>Yes</td>\n",
              "      <td>Yes</td>\n",
              "      <td>Yes</td>\n",
              "      <td>Yes</td>\n",
              "      <td>Yes</td>\n",
              "      <td>Yes</td>\n",
              "      <td>Yes</td>\n",
              "      <td>5.0</td>\n",
              "      <td>...</td>\n",
              "      <td>Very favorably</td>\n",
              "      <td>Han</td>\n",
              "      <td>No</td>\n",
              "      <td>NaN</td>\n",
              "      <td>Yes</td>\n",
              "      <td>Female</td>\n",
              "      <td>18-29</td>\n",
              "      <td>$0 - $24,999</td>\n",
              "      <td>Some college or Associate degree</td>\n",
              "      <td>East North Central</td>\n",
              "    </tr>\n",
              "    <tr>\n",
              "      <th>1182</th>\n",
              "      <td>3.288379e+09</td>\n",
              "      <td>Yes</td>\n",
              "      <td>Yes</td>\n",
              "      <td>Yes</td>\n",
              "      <td>Yes</td>\n",
              "      <td>Yes</td>\n",
              "      <td>Yes</td>\n",
              "      <td>Yes</td>\n",
              "      <td>Yes</td>\n",
              "      <td>4.0</td>\n",
              "      <td>...</td>\n",
              "      <td>Very favorably</td>\n",
              "      <td>I don't understand this question</td>\n",
              "      <td>No</td>\n",
              "      <td>NaN</td>\n",
              "      <td>Yes</td>\n",
              "      <td>Female</td>\n",
              "      <td>30-44</td>\n",
              "      <td>$50,000 - $99,999</td>\n",
              "      <td>Bachelor degree</td>\n",
              "      <td>Mountain</td>\n",
              "    </tr>\n",
              "    <tr>\n",
              "      <th>1183</th>\n",
              "      <td>3.288375e+09</td>\n",
              "      <td>No</td>\n",
              "      <td>NaN</td>\n",
              "      <td>NaN</td>\n",
              "      <td>NaN</td>\n",
              "      <td>NaN</td>\n",
              "      <td>NaN</td>\n",
              "      <td>NaN</td>\n",
              "      <td>NaN</td>\n",
              "      <td>NaN</td>\n",
              "      <td>...</td>\n",
              "      <td>NaN</td>\n",
              "      <td>NaN</td>\n",
              "      <td>NaN</td>\n",
              "      <td>NaN</td>\n",
              "      <td>No</td>\n",
              "      <td>Female</td>\n",
              "      <td>30-44</td>\n",
              "      <td>$50,000 - $99,999</td>\n",
              "      <td>Bachelor degree</td>\n",
              "      <td>Middle Atlantic</td>\n",
              "    </tr>\n",
              "    <tr>\n",
              "      <th>1184</th>\n",
              "      <td>3.288373e+09</td>\n",
              "      <td>Yes</td>\n",
              "      <td>Yes</td>\n",
              "      <td>Yes</td>\n",
              "      <td>Yes</td>\n",
              "      <td>Yes</td>\n",
              "      <td>Yes</td>\n",
              "      <td>Yes</td>\n",
              "      <td>Yes</td>\n",
              "      <td>4.0</td>\n",
              "      <td>...</td>\n",
              "      <td>Very favorably</td>\n",
              "      <td>Han</td>\n",
              "      <td>No</td>\n",
              "      <td>NaN</td>\n",
              "      <td>Yes</td>\n",
              "      <td>Female</td>\n",
              "      <td>45-60</td>\n",
              "      <td>$100,000 - $149,999</td>\n",
              "      <td>Some college or Associate degree</td>\n",
              "      <td>East North Central</td>\n",
              "    </tr>\n",
              "    <tr>\n",
              "      <th>1185</th>\n",
              "      <td>3.288373e+09</td>\n",
              "      <td>Yes</td>\n",
              "      <td>No</td>\n",
              "      <td>Yes</td>\n",
              "      <td>Yes</td>\n",
              "      <td>No</td>\n",
              "      <td>No</td>\n",
              "      <td>Yes</td>\n",
              "      <td>Yes</td>\n",
              "      <td>6.0</td>\n",
              "      <td>...</td>\n",
              "      <td>Very unfavorably</td>\n",
              "      <td>I don't understand this question</td>\n",
              "      <td>No</td>\n",
              "      <td>NaN</td>\n",
              "      <td>No</td>\n",
              "      <td>Female</td>\n",
              "      <td>&gt; 60</td>\n",
              "      <td>$50,000 - $99,999</td>\n",
              "      <td>Graduate degree</td>\n",
              "      <td>Pacific</td>\n",
              "    </tr>\n",
              "  </tbody>\n",
              "</table>\n",
              "<p>1186 rows × 38 columns</p>\n",
              "</div>\n",
              "      <button class=\"colab-df-convert\" onclick=\"convertToInteractive('df-6bc313fd-f176-4494-9f35-108091ca0e2f')\"\n",
              "              title=\"Convert this dataframe to an interactive table.\"\n",
              "              style=\"display:none;\">\n",
              "        \n",
              "  <svg xmlns=\"http://www.w3.org/2000/svg\" height=\"24px\"viewBox=\"0 0 24 24\"\n",
              "       width=\"24px\">\n",
              "    <path d=\"M0 0h24v24H0V0z\" fill=\"none\"/>\n",
              "    <path d=\"M18.56 5.44l.94 2.06.94-2.06 2.06-.94-2.06-.94-.94-2.06-.94 2.06-2.06.94zm-11 1L8.5 8.5l.94-2.06 2.06-.94-2.06-.94L8.5 2.5l-.94 2.06-2.06.94zm10 10l.94 2.06.94-2.06 2.06-.94-2.06-.94-.94-2.06-.94 2.06-2.06.94z\"/><path d=\"M17.41 7.96l-1.37-1.37c-.4-.4-.92-.59-1.43-.59-.52 0-1.04.2-1.43.59L10.3 9.45l-7.72 7.72c-.78.78-.78 2.05 0 2.83L4 21.41c.39.39.9.59 1.41.59.51 0 1.02-.2 1.41-.59l7.78-7.78 2.81-2.81c.8-.78.8-2.07 0-2.86zM5.41 20L4 18.59l7.72-7.72 1.47 1.35L5.41 20z\"/>\n",
              "  </svg>\n",
              "      </button>\n",
              "      \n",
              "  <style>\n",
              "    .colab-df-container {\n",
              "      display:flex;\n",
              "      flex-wrap:wrap;\n",
              "      gap: 12px;\n",
              "    }\n",
              "\n",
              "    .colab-df-convert {\n",
              "      background-color: #E8F0FE;\n",
              "      border: none;\n",
              "      border-radius: 50%;\n",
              "      cursor: pointer;\n",
              "      display: none;\n",
              "      fill: #1967D2;\n",
              "      height: 32px;\n",
              "      padding: 0 0 0 0;\n",
              "      width: 32px;\n",
              "    }\n",
              "\n",
              "    .colab-df-convert:hover {\n",
              "      background-color: #E2EBFA;\n",
              "      box-shadow: 0px 1px 2px rgba(60, 64, 67, 0.3), 0px 1px 3px 1px rgba(60, 64, 67, 0.15);\n",
              "      fill: #174EA6;\n",
              "    }\n",
              "\n",
              "    [theme=dark] .colab-df-convert {\n",
              "      background-color: #3B4455;\n",
              "      fill: #D2E3FC;\n",
              "    }\n",
              "\n",
              "    [theme=dark] .colab-df-convert:hover {\n",
              "      background-color: #434B5C;\n",
              "      box-shadow: 0px 1px 3px 1px rgba(0, 0, 0, 0.15);\n",
              "      filter: drop-shadow(0px 1px 2px rgba(0, 0, 0, 0.3));\n",
              "      fill: #FFFFFF;\n",
              "    }\n",
              "  </style>\n",
              "\n",
              "      <script>\n",
              "        const buttonEl =\n",
              "          document.querySelector('#df-6bc313fd-f176-4494-9f35-108091ca0e2f button.colab-df-convert');\n",
              "        buttonEl.style.display =\n",
              "          google.colab.kernel.accessAllowed ? 'block' : 'none';\n",
              "\n",
              "        async function convertToInteractive(key) {\n",
              "          const element = document.querySelector('#df-6bc313fd-f176-4494-9f35-108091ca0e2f');\n",
              "          const dataTable =\n",
              "            await google.colab.kernel.invokeFunction('convertToInteractive',\n",
              "                                                     [key], {});\n",
              "          if (!dataTable) return;\n",
              "\n",
              "          const docLinkHtml = 'Like what you see? Visit the ' +\n",
              "            '<a target=\"_blank\" href=https://colab.research.google.com/notebooks/data_table.ipynb>data table notebook</a>'\n",
              "            + ' to learn more about interactive tables.';\n",
              "          element.innerHTML = '';\n",
              "          dataTable['output_type'] = 'display_data';\n",
              "          await google.colab.output.renderOutput(dataTable, element);\n",
              "          const docLink = document.createElement('div');\n",
              "          docLink.innerHTML = docLinkHtml;\n",
              "          element.appendChild(docLink);\n",
              "        }\n",
              "      </script>\n",
              "    </div>\n",
              "  </div>\n",
              "  "
            ]
          },
          "metadata": {},
          "execution_count": 20
        }
      ]
    },
    {
      "cell_type": "markdown",
      "source": [
        "Question 1 : Write code that determines the number of unique values for age.\n",
        "\n",
        "Answer : 4 , ['18-29' '30-44' '> 60' '45-60']"
      ],
      "metadata": {
        "id": "XZwQdEbUQHzg"
      }
    },
    {
      "cell_type": "code",
      "source": [
        "print('Q1. Write code that determines the number of unique values for age.(without null values)')\n",
        "print()\n",
        "star_wars_age = star_wars['age'].dropna().unique()\n",
        "print()\n",
        "print(star_wars_age)\n",
        "print()\n",
        "len(star_wars_age)"
      ],
      "metadata": {
        "colab": {
          "base_uri": "https://localhost:8080/"
        },
        "id": "VQeqedGuFMDD",
        "outputId": "0267d934-7088-4e62-a105-492f2a51b7c1"
      },
      "execution_count": 21,
      "outputs": [
        {
          "output_type": "stream",
          "name": "stdout",
          "text": [
            "Q1. Write code that determines the number of unique values for age.(without null values)\n",
            "\n",
            "\n",
            "['18-29' '30-44' '> 60' '45-60']\n",
            "\n"
          ]
        },
        {
          "output_type": "execute_result",
          "data": {
            "text/plain": [
              "4"
            ]
          },
          "metadata": {},
          "execution_count": 21
        }
      ]
    },
    {
      "cell_type": "markdown",
      "source": [
        "Question 2: \n",
        "Write code that lists all the unique responses to the question, \"Who shot first?\" (who_shot_first\n",
        "field).\n",
        "\n",
        "Answer : \"I don't understand this question\" , nan , 'Greedo' ,'Han'"
      ],
      "metadata": {
        "id": "jWPZ6fz8QKN1"
      }
    },
    {
      "cell_type": "code",
      "source": [
        "print('Q2. Write code that lists all the unique responses to the question')\n",
        "print()\n",
        "star_wars_res = star_wars['who_shot_first'].unique()\n",
        "print(star_wars_res)"
      ],
      "metadata": {
        "colab": {
          "base_uri": "https://localhost:8080/"
        },
        "id": "bS5eKNTuGmBd",
        "outputId": "d42c2b4c-e377-48d3-9ed4-9c96d4990565"
      },
      "execution_count": 22,
      "outputs": [
        {
          "output_type": "stream",
          "name": "stdout",
          "text": [
            "Q2. Write code that lists all the unique responses to the question\n",
            "\n",
            "[\"I don't understand this question\" nan 'Greedo' 'Han']\n"
          ]
        }
      ]
    },
    {
      "cell_type": "markdown",
      "source": [
        "Question 3:\n",
        "\n",
        "Write code to determine the number of entries in the data set that view Darth Vader as \"Very\n",
        "favorably\" or \"Somewhat favorably\".\n",
        "\n",
        "Answer : Number of Enteries in the data set that view Darth Vader as \"Very favorably\" or \"Somewhat favorably\" is 481"
      ],
      "metadata": {
        "id": "Bp6N1YRkQZop"
      }
    },
    {
      "cell_type": "code",
      "source": [
        "print('Q3. Write code to determine the number of entries in the data set that view Darth Vader as Very favorably or Somewhat favorably.')\n",
        "print()\n",
        "star_wars_very_fav_1 = star_wars.loc[(star_wars['view_darth_vader'] == 'Very favorably') | (star_wars['view_darth_vader'] == 'Somewhat favorably')]\n",
        "print(len(star_wars_very_fav_1))"
      ],
      "metadata": {
        "colab": {
          "base_uri": "https://localhost:8080/"
        },
        "id": "RSRtlyd1Hh-9",
        "outputId": "713a0c01-4dd7-4910-988d-d9fb7c4204e8"
      },
      "execution_count": 23,
      "outputs": [
        {
          "output_type": "stream",
          "name": "stdout",
          "text": [
            "Q3. Write code to determine the number of entries in the data set that view Darth Vader as Very favorably or Somewhat favorably.\n",
            "\n",
            "481\n"
          ]
        }
      ]
    },
    {
      "cell_type": "markdown",
      "source": [
        "Question 4: \n",
        "Write code that computes the total number of people that have seen all 6 Star Wars films (hint:\n",
        "471).\n",
        "\n",
        "Answer : 471"
      ],
      "metadata": {
        "id": "zf1nU3cFQ1IF"
      }
    },
    {
      "cell_type": "code",
      "source": [
        "print('Q4. Write code that computes the total number of people that have seen all 6 Star Wars films')\n",
        "print()\n",
        "star_wars_epi = star_wars.loc[(star_wars['seen_episode1']==\"Yes\") & (star_wars['seen_episode2']==\"Yes\") & (star_wars['seen_episode3']==\"Yes\") & (star_wars['seen_episode4']==\"Yes\") & (star_wars['seen_episode5']==\"Yes\") & (star_wars['seen_episode6']==\"Yes\")]\n",
        "len(star_wars_epi)"
      ],
      "metadata": {
        "colab": {
          "base_uri": "https://localhost:8080/"
        },
        "id": "DA-xYGjLQ1us",
        "outputId": "5771f820-cc8f-4c64-bfdf-89356e6c623f"
      },
      "execution_count": 24,
      "outputs": [
        {
          "output_type": "stream",
          "name": "stdout",
          "text": [
            "Q4. Write code that computes the total number of people that have seen all 6 Star Wars films\n",
            "\n"
          ]
        },
        {
          "output_type": "execute_result",
          "data": {
            "text/plain": [
              "471"
            ]
          },
          "metadata": {},
          "execution_count": 24
        }
      ]
    },
    {
      "cell_type": "markdown",
      "source": [
        "Question 5: \n",
        "Write code that computes the percentage of males and females that are fans of Star Wars.\n",
        "\n",
        "Answer: \n",
        "Percentage of Males who are fans of star wars is 60.96579476861167 and \n",
        "\n",
        "Percentage of Females who are fans of star wars is 43.35154826958106\n",
        "\n"
      ],
      "metadata": {
        "id": "cbt4TB2QRHQP"
      }
    },
    {
      "cell_type": "code",
      "source": [
        "print('Q5. Write code that computes the percentage of males and females that are fans of Star Wars.')\n",
        "star_wars_male = star_wars.loc[(star_wars['gender'] == \"Male\") & (star_wars['fan'] == \"Yes\")]\n",
        "star_wars_female = star_wars.loc[(star_wars['gender'] == \"Female\") & (star_wars['fan'] == \"Yes\")]\n",
        "star_wars_total_male = star_wars.loc[(star_wars['gender'] == \"Male\")]\n",
        "star_wars_total_female = star_wars.loc[(star_wars['gender'] == \"Female\")]\n",
        "print('Percentage of Males who are fans of star wars is', len(star_wars_male)/len(star_wars_total_male) * 100)\n",
        "print()\n",
        "print('Percentage of females who are fans of star wars is', len(star_wars_female)/len(star_wars_total_female) * 100)"
      ],
      "metadata": {
        "colab": {
          "base_uri": "https://localhost:8080/"
        },
        "id": "RNc4Fbraav2W",
        "outputId": "0c673bba-52b4-41af-eca2-545628a25ee2"
      },
      "execution_count": 25,
      "outputs": [
        {
          "output_type": "stream",
          "name": "stdout",
          "text": [
            "Q5. Write code that computes the percentage of males and females that are fans of Star Wars.\n",
            "Percentage of Males who are fans of star wars is 60.96579476861167\n",
            "\n",
            "Percentage of females who are fans of star wars is 43.35154826958106\n"
          ]
        }
      ]
    },
    {
      "cell_type": "markdown",
      "source": [
        "Attributions\n",
        "\n",
        "https://sparkbyexamples.com/pandas/pandas-filter-rows-by-conditions/\n",
        "\n",
        "https://www.geeksforgeeks.org/selecting-rows-in-pandas-dataframe-based-on-conditions/"
      ],
      "metadata": {
        "id": "3ei0cY_BfZK9"
      }
    }
  ]
}